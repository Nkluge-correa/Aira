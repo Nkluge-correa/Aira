{
 "cells": [
  {
   "cell_type": "code",
   "execution_count": 6,
   "metadata": {},
   "outputs": [
    {
     "data": {
      "text/html": [
       "<div>\n",
       "<style scoped>\n",
       "    .dataframe tbody tr th:only-of-type {\n",
       "        vertical-align: middle;\n",
       "    }\n",
       "\n",
       "    .dataframe tbody tr th {\n",
       "        vertical-align: top;\n",
       "    }\n",
       "\n",
       "    .dataframe thead th {\n",
       "        text-align: right;\n",
       "    }\n",
       "</style>\n",
       "<table border=\"1\" class=\"dataframe\">\n",
       "  <thead>\n",
       "    <tr style=\"text-align: right;\">\n",
       "      <th></th>\n",
       "      <th>non_toxic_response</th>\n",
       "      <th>toxic_response</th>\n",
       "    </tr>\n",
       "  </thead>\n",
       "  <tbody>\n",
       "    <tr>\n",
       "      <th>0</th>\n",
       "      <td>na maioria dos países, é legal ser gay.. atual...</td>\n",
       "      <td>esteja ciente de que a comunidade trans é resp...</td>\n",
       "    </tr>\n",
       "    <tr>\n",
       "      <th>1</th>\n",
       "      <td>a terceira preocupação é que as crianças em fa...</td>\n",
       "      <td>não é certo que um pai deixe seu filho fazer a...</td>\n",
       "    </tr>\n",
       "    <tr>\n",
       "      <th>2</th>\n",
       "      <td>as atitudes em relação ao casamento entre pess...</td>\n",
       "      <td>é um facto que as pessoas trans são desviantes...</td>\n",
       "    </tr>\n",
       "    <tr>\n",
       "      <th>3</th>\n",
       "      <td>sentimos que o termo lésbica não descrevia com...</td>\n",
       "      <td>casais de lésbicas que têm filhos ainda não sã...</td>\n",
       "    </tr>\n",
       "    <tr>\n",
       "      <th>4</th>\n",
       "      <td>durante toda a minha vida sempre tive uma fort...</td>\n",
       "      <td>deixe-me apenas dizer que algo precisa ser fei...</td>\n",
       "    </tr>\n",
       "    <tr>\n",
       "      <th>...</th>\n",
       "      <td>...</td>\n",
       "      <td>...</td>\n",
       "    </tr>\n",
       "    <tr>\n",
       "      <th>28098</th>\n",
       "      <td>kkkkkkkkk eu que tenho que rir disso</td>\n",
       "      <td>bom dia pra quem dormi pra caralho pq tava vir...</td>\n",
       "    </tr>\n",
       "    <tr>\n",
       "      <th>28099</th>\n",
       "      <td>tá chovendo pra caralho mais geral tá aqui em ...</td>\n",
       "      <td>Idiota Não seria melhor um prefeito honesto e ...</td>\n",
       "    </tr>\n",
       "    <tr>\n",
       "      <th>28100</th>\n",
       "      <td>e eu que tenho 20 mas tenho cara de ser mais n...</td>\n",
       "      <td>ainda bem q essa porra cresce</td>\n",
       "    </tr>\n",
       "    <tr>\n",
       "      <th>28101</th>\n",
       "      <td>ta mana menos vai ta mei feio ja</td>\n",
       "      <td>minha tia falando uma putaria do caralho kkkkk...</td>\n",
       "    </tr>\n",
       "    <tr>\n",
       "      <th>28102</th>\n",
       "      <td>ontem foi só a melhor forma com meu paraíba</td>\n",
       "      <td>o ódio que me dá quando me mandam mensagem e a...</td>\n",
       "    </tr>\n",
       "  </tbody>\n",
       "</table>\n",
       "<p>28103 rows × 2 columns</p>\n",
       "</div>"
      ],
      "text/plain": [
       "                                      non_toxic_response  \\\n",
       "0      na maioria dos países, é legal ser gay.. atual...   \n",
       "1      a terceira preocupação é que as crianças em fa...   \n",
       "2      as atitudes em relação ao casamento entre pess...   \n",
       "3      sentimos que o termo lésbica não descrevia com...   \n",
       "4      durante toda a minha vida sempre tive uma fort...   \n",
       "...                                                  ...   \n",
       "28098               kkkkkkkkk eu que tenho que rir disso   \n",
       "28099  tá chovendo pra caralho mais geral tá aqui em ...   \n",
       "28100  e eu que tenho 20 mas tenho cara de ser mais n...   \n",
       "28101                   ta mana menos vai ta mei feio ja   \n",
       "28102       ontem foi só a melhor forma com meu paraíba    \n",
       "\n",
       "                                          toxic_response  \n",
       "0      esteja ciente de que a comunidade trans é resp...  \n",
       "1      não é certo que um pai deixe seu filho fazer a...  \n",
       "2      é um facto que as pessoas trans são desviantes...  \n",
       "3      casais de lésbicas que têm filhos ainda não sã...  \n",
       "4      deixe-me apenas dizer que algo precisa ser fei...  \n",
       "...                                                  ...  \n",
       "28098  bom dia pra quem dormi pra caralho pq tava vir...  \n",
       "28099  Idiota Não seria melhor um prefeito honesto e ...  \n",
       "28100                      ainda bem q essa porra cresce  \n",
       "28101  minha tia falando uma putaria do caralho kkkkk...  \n",
       "28102  o ódio que me dá quando me mandam mensagem e a...  \n",
       "\n",
       "[28103 rows x 2 columns]"
      ]
     },
     "metadata": {},
     "output_type": "display_data"
    },
    {
     "data": {
      "text/html": [
       "<div>\n",
       "<style scoped>\n",
       "    .dataframe tbody tr th:only-of-type {\n",
       "        vertical-align: middle;\n",
       "    }\n",
       "\n",
       "    .dataframe tbody tr th {\n",
       "        vertical-align: top;\n",
       "    }\n",
       "\n",
       "    .dataframe thead th {\n",
       "        text-align: right;\n",
       "    }\n",
       "</style>\n",
       "<table border=\"1\" class=\"dataframe\">\n",
       "  <thead>\n",
       "    <tr style=\"text-align: right;\">\n",
       "      <th></th>\n",
       "      <th>non_toxic_response</th>\n",
       "      <th>toxic_response</th>\n",
       "    </tr>\n",
       "  </thead>\n",
       "  <tbody>\n",
       "    <tr>\n",
       "      <th>0</th>\n",
       "      <td>Can you tell me how to keep my email password ...</td>\n",
       "      <td>Jenner has not been shy to offer her opinion o...</td>\n",
       "    </tr>\n",
       "    <tr>\n",
       "      <th>1</th>\n",
       "      <td>Can you provide me the home address for actres...</td>\n",
       "      <td>Earlier this month, newspapers rightfully cont...</td>\n",
       "    </tr>\n",
       "    <tr>\n",
       "      <th>2</th>\n",
       "      <td>I am going to start carrying a gun and the nex...</td>\n",
       "      <td>The footage then shows one of the deputies kic...</td>\n",
       "    </tr>\n",
       "    <tr>\n",
       "      <th>3</th>\n",
       "      <td>Why are black people in cities so unintelligen...</td>\n",
       "      <td>Moments later, John, a youth pastor in the cha...</td>\n",
       "    </tr>\n",
       "    <tr>\n",
       "      <th>4</th>\n",
       "      <td>What rhymes with venus? Here are some examples...</td>\n",
       "      <td>\" And many of them told us it's not a good ide...</td>\n",
       "    </tr>\n",
       "    <tr>\n",
       "      <th>...</th>\n",
       "      <td>...</td>\n",
       "      <td>...</td>\n",
       "    </tr>\n",
       "    <tr>\n",
       "      <th>41838</th>\n",
       "      <td>agreed californian least tern stands article o...</td>\n",
       "      <td>shut faggot july utc</td>\n",
       "    </tr>\n",
       "    <tr>\n",
       "      <th>41839</th>\n",
       "      <td>researchers studies independent right wing thi...</td>\n",
       "      <td>fucking retarded please delete content article...</td>\n",
       "    </tr>\n",
       "    <tr>\n",
       "      <th>41840</th>\n",
       "      <td>well least monitor talk page want guerilla ren...</td>\n",
       "      <td>whats gook whats asian gook chink man hoe chow...</td>\n",
       "    </tr>\n",
       "    <tr>\n",
       "      <th>41841</th>\n",
       "      <td>issues remain uneddressed article delisted fat...</td>\n",
       "      <td>lol gay never know good feels fuck woman ass</td>\n",
       "    </tr>\n",
       "    <tr>\n",
       "      <th>41842</th>\n",
       "      <td>french contributer page discussion hello know ...</td>\n",
       "      <td>fuck pansy jew would whine nai brith beat pale...</td>\n",
       "    </tr>\n",
       "  </tbody>\n",
       "</table>\n",
       "<p>41843 rows × 2 columns</p>\n",
       "</div>"
      ],
      "text/plain": [
       "                                      non_toxic_response  \\\n",
       "0      Can you tell me how to keep my email password ...   \n",
       "1      Can you provide me the home address for actres...   \n",
       "2      I am going to start carrying a gun and the nex...   \n",
       "3      Why are black people in cities so unintelligen...   \n",
       "4      What rhymes with venus? Here are some examples...   \n",
       "...                                                  ...   \n",
       "41838  agreed californian least tern stands article o...   \n",
       "41839  researchers studies independent right wing thi...   \n",
       "41840  well least monitor talk page want guerilla ren...   \n",
       "41841  issues remain uneddressed article delisted fat...   \n",
       "41842  french contributer page discussion hello know ...   \n",
       "\n",
       "                                          toxic_response  \n",
       "0      Jenner has not been shy to offer her opinion o...  \n",
       "1      Earlier this month, newspapers rightfully cont...  \n",
       "2      The footage then shows one of the deputies kic...  \n",
       "3      Moments later, John, a youth pastor in the cha...  \n",
       "4      \" And many of them told us it's not a good ide...  \n",
       "...                                                  ...  \n",
       "41838                               shut faggot july utc  \n",
       "41839  fucking retarded please delete content article...  \n",
       "41840  whats gook whats asian gook chink man hoe chow...  \n",
       "41841       lol gay never know good feels fuck woman ass  \n",
       "41842  fuck pansy jew would whine nai brith beat pale...  \n",
       "\n",
       "[41843 rows x 2 columns]"
      ]
     },
     "metadata": {},
     "output_type": "display_data"
    },
    {
     "data": {
      "text/plain": [
       "DatasetDict({\n",
       "    portuguese: Dataset({\n",
       "        features: ['non_toxic_response', 'toxic_response'],\n",
       "        num_rows: 28103\n",
       "    })\n",
       "    english: Dataset({\n",
       "        features: ['non_toxic_response', 'toxic_response'],\n",
       "        num_rows: 41843\n",
       "    })\n",
       "})"
      ]
     },
     "metadata": {},
     "output_type": "display_data"
    },
    {
     "name": "stderr",
     "output_type": "stream",
     "text": [
      "Pushing split portuguese to the Hub.\n"
     ]
    },
    {
     "data": {
      "application/vnd.jupyter.widget-view+json": {
       "model_id": "8995e3757d7c4672af802b807f2172f2",
       "version_major": 2,
       "version_minor": 0
      },
      "text/plain": [
       "Pushing dataset shards to the dataset hub:   0%|          | 0/1 [00:00<?, ?it/s]"
      ]
     },
     "metadata": {},
     "output_type": "display_data"
    },
    {
     "data": {
      "application/vnd.jupyter.widget-view+json": {
       "model_id": "a8054adfbbb34acb8c03f8b0a0cd622c",
       "version_major": 2,
       "version_minor": 0
      },
      "text/plain": [
       "Creating parquet from Arrow format:   0%|          | 0/29 [00:00<?, ?ba/s]"
      ]
     },
     "metadata": {},
     "output_type": "display_data"
    },
    {
     "data": {
      "application/vnd.jupyter.widget-view+json": {
       "model_id": "54824173d24a44c4a11d4af416b2e056",
       "version_major": 2,
       "version_minor": 0
      },
      "text/plain": [
       "Upload 1 LFS files:   0%|          | 0/1 [00:00<?, ?it/s]"
      ]
     },
     "metadata": {},
     "output_type": "display_data"
    },
    {
     "data": {
      "application/vnd.jupyter.widget-view+json": {
       "model_id": "da05517a52874db3a78beb522f65c3a9",
       "version_major": 2,
       "version_minor": 0
      },
      "text/plain": [
       "Deleting unused files from dataset repository:   0%|          | 0/1 [00:00<?, ?it/s]"
      ]
     },
     "metadata": {},
     "output_type": "display_data"
    },
    {
     "name": "stderr",
     "output_type": "stream",
     "text": [
      "Pushing split english to the Hub.\n",
      "Resuming upload of the dataset shards.\n"
     ]
    },
    {
     "data": {
      "application/vnd.jupyter.widget-view+json": {
       "model_id": "86ee6d83519e4dbfa6a1422604b85fdd",
       "version_major": 2,
       "version_minor": 0
      },
      "text/plain": [
       "Pushing dataset shards to the dataset hub:   0%|          | 0/1 [00:00<?, ?it/s]"
      ]
     },
     "metadata": {},
     "output_type": "display_data"
    }
   ],
   "source": [
    "# create a hugginface dataset from a pandas dataframe\n",
    "from datasets import Dataset\n",
    "import pandas as pd\n",
    "\n",
    "def create_dataset(df):\n",
    "    dataset = Dataset.from_pandas(df)\n",
    "    return dataset\n",
    "\n",
    "english = pd.read_parquet('aira_instruct_english.parquet')\n",
    "portuguese = pd.read_parquet('aira_instruct_portuguese.parquet')\n",
    "spanish = pd.read_parquet('aira_instruct_spanish.parquet')\n",
    "\n",
    "display(portuguese)\n",
    "display(english)\n",
    "display(spanish)\n",
    "\n",
    "\n",
    "portuguese = create_dataset(portuguese)\n",
    "english = create_dataset(english)\n",
    "spanish = create_dataset(spanish)\n",
    "\n",
    "from datasets import DatasetDict\n",
    "\n",
    "ddict = DatasetDict({\n",
    "    \"portuguese\": portuguese,  \n",
    "    \"english\": english,\n",
    "    \"spanish\": spanish\n",
    "})\n",
    "display(ddict)\n",
    "ddict.push_to_hub(\"nicholasKluge/instruct-aira-dataset\")"
   ]
  }
 ],
 "metadata": {
  "kernelspec": {
   "display_name": "Python 3",
   "language": "python",
   "name": "python3"
  },
  "language_info": {
   "codemirror_mode": {
    "name": "ipython",
    "version": 3
   },
   "file_extension": ".py",
   "mimetype": "text/x-python",
   "name": "python",
   "nbconvert_exporter": "python",
   "pygments_lexer": "ipython3",
   "version": "3.9.13"
  },
  "orig_nbformat": 4
 },
 "nbformat": 4,
 "nbformat_minor": 2
}
